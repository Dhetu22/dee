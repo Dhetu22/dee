{
  "nbformat": 4,
  "nbformat_minor": 0,
  "metadata": {
    "colab": {
      "provenance": [],
      "authorship_tag": "ABX9TyMLtePASZbZU/tWk6NymVKs",
      "include_colab_link": true
    },
    "kernelspec": {
      "name": "python3",
      "display_name": "Python 3"
    },
    "language_info": {
      "name": "python"
    }
  },
  "cells": [
    {
      "cell_type": "markdown",
      "metadata": {
        "id": "view-in-github",
        "colab_type": "text"
      },
      "source": [
        "<a href=\"https://colab.research.google.com/github/Dhetu22/dee/blob/main/myWork012.ipynb\" target=\"_parent\"><img src=\"https://colab.research.google.com/assets/colab-badge.svg\" alt=\"Open In Colab\"/></a>"
      ]
    },
    {
      "cell_type": "code",
      "execution_count": 4,
      "metadata": {
        "id": "mbQqOUCGr8HA"
      },
      "outputs": [],
      "source": [
        "import numpy as np\n",
        "import pandas as pd\n",
        "import seaborn as sns\n",
        "from pylab import rcParams\n",
        "# import strings\n",
        "import re\n",
        "import matplotlib.pyplot as plt\n",
        "import math\n",
        "from matplotlib import rc\n",
        "from sklearn.model_selection import train_test_split\n",
        "from collections import Counter, defaultdict\n",
        "from bs4 import BeautifulSoup\n",
        "from sklearn.metrics import accuracy_score\n",
        "# from sklearn.metrics import classification_report, confusion_metrix\n",
        "import nltk\n",
        "# from nltk import.corpus import stopwords"
      ]
    },
    {
      "cell_type": "code",
      "source": [],
      "metadata": {
        "id": "BVozXeMCvi4g"
      },
      "execution_count": 4,
      "outputs": []
    },
    {
      "cell_type": "code",
      "source": [
        "sns.set(style='whitegrid', palette='muted', font_scale=1.5)\n",
        "rcParams['figure.figsize'] = 8, 4\n",
        "RANDOM_SEED = 42\n",
        "# np.random.seedRANDOM_SEED)"
      ],
      "metadata": {
        "id": "VauihTOHvj9N"
      },
      "execution_count": 6,
      "outputs": []
    },
    {
      "cell_type": "code",
      "source": [],
      "metadata": {
        "id": "hmVWiuBe0vnY"
      },
      "execution_count": 6,
      "outputs": []
    },
    {
      "cell_type": "code",
      "source": [
        "train = pd.read_csv(\"testdata.txt\", delimiter=\"\\t\")\n",
        "test = pd.read_csv(\"testdata.txt\", delimiter=\"\\t\")"
      ],
      "metadata": {
        "id": "OzfUhCwk0vN4"
      },
      "execution_count": 13,
      "outputs": []
    },
    {
      "cell_type": "code",
      "source": [],
      "metadata": {
        "id": "iSbl2sK01cpR"
      },
      "execution_count": 8,
      "outputs": []
    },
    {
      "cell_type": "code",
      "source": [
        "print(train.head())"
      ],
      "metadata": {
        "id": "evhkUG0Z1dei",
        "colab": {
          "base_uri": "https://localhost:8080/"
        },
        "outputId": "2f3c3f2e-a6a8-4bd2-bb17-ae2df0e4fadd"
      },
      "execution_count": 14,
      "outputs": [
        {
          "output_type": "stream",
          "name": "stdout",
          "text": [
            "   I don't care what anyone says, I like Hillary Clinton.\\nhave an awesome time at purdue!..\\nYep, I'm still in London, which is pretty awesome: P Remind me to post the million and one pictures that I took when I get back to Markham!...\\nHave to say, I hate Paris Hilton's behavior but I do think she's kinda cute..\\ni will love the lakers.\\nI'm so glad I love Paris Hilton, too, or this would be excruciating.\\nconsidering most Geico commericals are stupid...\\ni liked MIT though, esp their little info book(\\nBefore I left Missouri, I thought London was going to be so good and cool and fun and a really great experience and I was really excited.\\nI still like Tom Cruise.\\nwell, i had a piece of crap toyota celica but it died in portland and i got a ford ranger..\\ni love angelina jolie.\\nI still like Tom Cruise.\\nUCLA is beautiful.\\nI think Angelina Jolie is so much more beautiful than Jennifer Anniston, who, by the way, is majorly OVERRATED.\\nAngelina Jolie is beautiful.\\nand honda's are awesome:).\\nI love Harvard.\\ni love tom cruise!..\\nThis means we beat out schools like MIT, which is amazing for a relatively small, unassuming lil'IS department.\\ni hate london bugs.\\nWay to go stupid Lakers..\\nlondon sucks....\\nanyway, shanghai is really beautiful ， 滨江大道是很灵的啦 ， 那个starbucks是上海风景最好的starbucks ~ ~!!!\\nbuy quite a few food to back to notts to eat la, aiiii, notts only hv 1 chinese shop in town ja, so shit, london is so GREAT!!..\\nangelina jolie is so beautiful that i don't even have the desire to attain such exquisite beauty..\\nI reallllllly hate Tom Cruise...\\nTo my understanding, Harvard is a very difficult college to get in to.\\nBoston can suck my fucking tits...\\nI loved Boston and MIT so much and still do.\\nI like honda civics!!!!!!.\\nno matter how obvious it is to me that George W Bush is an arrogant idiot liar, there are plenty of people who believe him.\\nI love the Los Angeles Lakers...\\nthe stupid honda lol or a BUG!..\\nseattle sucks anyways.\\nI want a ThinkPad or something.\\nI love Shanghai, it's such a great city, and Hongzhou is only a two hour train ride away from it.\\nMy Purdue Cal friends are awesome!..\\nShanghai is beautiful ~..\\nlondon sucks....\\ni love my new Macbook..\\ni love my new Macbook..\\ni'd love to see the clips and lakers in the second round, though the winner would just be a stepping stone for the mavs or spurs...\\nAwesome diner here @ Purdue...\\ni love my new Macbook..\\nSan Francisco was brilliant, Sausalito...\\nAs for myself, I'm wanting a new Honda Element with a prescription windshield....\\ni think if i hate boston, ill just disappear to california for the summers...\\nI love the Toyota Prius.\\nseattle sucks anyways.\\nI love Harvard Square in the fall.\\nI want a tour of London on the back of that bike!\\nI know you're way too smart and way too cool to let stupid UCLA get to you...\\nThe Lakers are playing really awesome ball.\\nIt isn't over until its over though, and for now my brain is set on  I love Harvard, I want to come to Harvard \" mode.....\n",
            "0  harvard is dumb, i mean they really have to be...                                                                                                                                                                                                                                                                                                                                                                                                                                                                                                                                                                                                                                                                                                                                                                                                                                                                                                                                                                                                                                                                                                                                                                                                                                                                                                                                                                                                                                                                                                                                                                                                                                                                                                                                                                                                                                                                                                                                                                                                                                                                                                                                                                                                                                                                                                                                                                                                                                                                                                                                                                                                                                                                                                                                                                                                                                                                                                                                                                                                                                                                                          \n",
            "1                   I'm loving Shanghai > > > ^ _ ^.                                                                                                                                                                                                                                                                                                                                                                                                                                                                                                                                                                                                                                                                                                                                                                                                                                                                                                                                                                                                                                                                                                                                                                                                                                                                                                                                                                                                                                                                                                                                                                                                                                                                                                                                                                                                                                                                                                                                                                                                                                                                                                                                                                                                                                                                                                                                                                                                                                                                                                                                                                                                                                                                                                                                                                                                                                                                                                                                                                                                                                                                                          \n",
            "2                        harvard is for dumb people.                                                                                                                                                                                                                                                                                                                                                                                                                                                                                                                                                                                                                                                                                                                                                                                                                                                                                                                                                                                                                                                                                                                                                                                                                                                                                                                                                                                                                                                                                                                                                                                                                                                                                                                                                                                                                                                                                                                                                                                                                                                                                                                                                                                                                                                                                                                                                                                                                                                                                                                                                                                                                                                                                                                                                                                                                                                                                                                                                                                                                                                                                          \n",
            "3  As i stepped out of my beautiful Toyota, i hea...                                                                                                                                                                                                                                                                                                                                                                                                                                                                                                                                                                                                                                                                                                                                                                                                                                                                                                                                                                                                                                                                                                                                                                                                                                                                                                                                                                                                                                                                                                                                                                                                                                                                                                                                                                                                                                                                                                                                                                                                                                                                                                                                                                                                                                                                                                                                                                                                                                                                                                                                                                                                                                                                                                                                                                                                                                                                                                                                                                                                                                                                                          \n",
            "4  Bodies being dismembered, blown apart, and mut...                                                                                                                                                                                                                                                                                                                                                                                                                                                                                                                                                                                                                                                                                                                                                                                                                                                                                                                                                                                                                                                                                                                                                                                                                                                                                                                                                                                                                                                                                                                                                                                                                                                                                                                                                                                                                                                                                                                                                                                                                                                                                                                                                                                                                                                                                                                                                                                                                                                                                                                                                                                                                                                                                                                                                                                                                                                                                                                                                                                                                                                                                          \n"
          ]
        }
      ]
    },
    {
      "cell_type": "code",
      "source": [],
      "metadata": {
        "id": "hjFNuSw51s7q"
      },
      "execution_count": 14,
      "outputs": []
    },
    {
      "cell_type": "code",
      "source": [
        "# f = sns.countplot('sentiment', data=train)\n",
        "# f.set_title(\"sentiment distribution\")\n",
        "# f.set_xticklabels(['Negative', 'Positive'])\n",
        "plt.xlabel(\"\");"
      ],
      "metadata": {
        "id": "AHvBctNm1tjj",
        "colab": {
          "base_uri": "https://localhost:8080/",
          "height": 390
        },
        "outputId": "c3c58d17-1f62-47d1-a008-aab64c2435f9"
      },
      "execution_count": 19,
      "outputs": [
        {
          "output_type": "display_data",
          "data": {
            "text/plain": [
              "<Figure size 800x400 with 1 Axes>"
            ],
            "image/png": "[encoded data removed]"
          },
          "metadata": {}
        }
      ]
    },
    {
      "cell_type": "code",
      "source": [
        "class Tokenizer:\n",
        "\n",
        "  def clean(self, text):\n",
        "    no_html = BeautifulSoup(text, \"html.parser\").get_text()\n",
        "    # clean = re.sub(\"[^a-z\\s]+\", \" \" no_html, flags.IGNORECASE)\n",
        "    return re.sub(\"(\\s+)\", \" \", clean)\n",
        "  \n",
        "  def tokenize(self, text):\n",
        "    clean = self.clean(text).lower()\n",
        "    stopwords_en = stopwords.words(\"english\")\n",
        "    return [w for w in re.split(\"\\W+\", clean) if not w in stopwords_en]"
      ],
      "metadata": {
        "id": "Ykiu6mAa3Bye"
      },
      "execution_count": 21,
      "outputs": []
    },
    {
      "cell_type": "code",
      "source": [],
      "metadata": {
        "id": "20aYL5OA5EuB"
      },
      "execution_count": 21,
      "outputs": []
    },
    {
      "cell_type": "code",
      "source": [
        "class MultinomialNaiveBayes:\n",
        "\n",
        "  def _init_(self, classes, tokenizer):\n",
        "    self.tokenizer = tokenizer\n",
        "    self.classes = classes\n",
        "\n",
        "    # def group by classes(self, X, y):\n",
        "      # data= dict('')\n",
        "      # for c in self.classes:\n",
        "        data[c] = X[np.where(y == c)]\n",
        "      return data\n",
        "\n",
        "# creating the model\n",
        "    def fit(self, X, y):\n",
        "      self.n_class_priors = {}\n",
        "      self.word_counts = {}\n",
        "      self.vocab = set()\n",
        "\n",
        "      n = len(X)\n",
        "\n",
        "      grouped_data = self.gruop_by_class(X, y)\n",
        "\n",
        "      for c, data in grouped_data.items():\n",
        "        self.n_class_items[c] = len(data)\n",
        "        self.log_class_priors[c] = math.log(self.n_class_items[c]/n)\n",
        "        self.word_counts = defaultdict(lamda: 0)\n",
        "\n",
        "        for text in data:\n",
        "          counts = Counter(self.tokenizer.tokenize(text))\n",
        "          for word, count in count.items():\n",
        "            if word not in self.vocab:\n",
        "              self.vocab.add(word)\n",
        "\n",
        "            self.word_counts[c][word]  += count\n",
        "      return self\n",
        "\n",
        "      def laplace_smoothing(self, word, text_class):\n",
        "        num = self.word_counts[text_class][word] + 1\n",
        "        denom = self.n_class_items[tet_class] + len(self.vocab)\n",
        "        return math.log(num/denom)\n",
        "\n",
        "      \n",
        "      def predict(self, X):\n",
        "        result = []\n",
        "        for text in X:\n",
        "\n",
        "          class = scores = (c: self.log_class_priors[c] for c in self.classes)\n",
        "\n",
        "          words = set(self, tokenizer.tokenize(text))\n",
        "          for word in words:\n",
        "            if word not iin self.vocab: continue\n",
        "\n",
        "            for c in self.classes:\n",
        "\n",
        "              log_w_given_c = self.laplace_smooothing(word, c)\n",
        "              class_score[c] += log_w_given_c\n",
        "\n",
        "          result.append(max(class_score, keyclass_score.get))\n",
        "\n",
        "        return result"
      ],
      "metadata": {
        "id": "6IfmdFWq5Gzn",
        "colab": {
          "base_uri": "https://localhost:8080/",
          "height": 130
        },
        "outputId": "07eb0e87-64b6-4194-bb71-f2c1a8221c68"
      },
      "execution_count": 30,
      "outputs": [
        {
          "output_type": "error",
          "ename": "IndentationError",
          "evalue": "ignored",
          "traceback": [
            "\u001b[0;36m  File \u001b[0;32m\"<tokenize>\"\u001b[0;36m, line \u001b[0;32m11\u001b[0m\n\u001b[0;31m    return data\u001b[0m\n\u001b[0m    ^\u001b[0m\n\u001b[0;31mIndentationError\u001b[0m\u001b[0;31m:\u001b[0m unindent does not match any outer indentation level\n"
          ]
        }
      ]
    },
    {
      "cell_type": "code",
      "source": [],
      "metadata": {
        "id": "NFdUx2aAAGEp"
      },
      "execution_count": 30,
      "outputs": []
    },
    {
      "cell_type": "code",
      "source": [
        "# X = train['review'].values\n",
        "# y = train['sentiment'].values\n",
        "\n",
        "X_train, X_test, y_train, y_test = train_test_split(X, y, test_size = 0.2, random_state = RANDOM_SEED)"
      ],
      "metadata": {
        "id": "MIQV-b6RAE4u",
        "colab": {
          "base_uri": "https://localhost:8080/",
          "height": 200
        },
        "outputId": "4194823c-3ec8-4493-f4e8-b22636a4fdf0"
      },
      "execution_count": 38,
      "outputs": [
        {
          "output_type": "error",
          "ename": "NameError",
          "evalue": "ignored",
          "traceback": [
            "\u001b[0;31m---------------------------------------------------------------------------\u001b[0m",
            "\u001b[0;31mNameError\u001b[0m                                 Traceback (most recent call last)",
            "\u001b[0;32m<ipython-input-38-23d344138a48>\u001b[0m in \u001b[0;36m<cell line: 4>\u001b[0;34m()\u001b[0m\n\u001b[1;32m      2\u001b[0m \u001b[0;31m# y = train['sentiment'].values\u001b[0m\u001b[0;34m\u001b[0m\u001b[0;34m\u001b[0m\u001b[0m\n\u001b[1;32m      3\u001b[0m \u001b[0;34m\u001b[0m\u001b[0m\n\u001b[0;32m----> 4\u001b[0;31m \u001b[0mX_train\u001b[0m\u001b[0;34m,\u001b[0m \u001b[0mX_test\u001b[0m\u001b[0;34m,\u001b[0m \u001b[0my_train\u001b[0m\u001b[0;34m,\u001b[0m \u001b[0my_test\u001b[0m \u001b[0;34m=\u001b[0m \u001b[0mtrain_test_split\u001b[0m\u001b[0;34m(\u001b[0m\u001b[0mX\u001b[0m\u001b[0;34m,\u001b[0m \u001b[0my\u001b[0m\u001b[0;34m,\u001b[0m \u001b[0mtest_size\u001b[0m \u001b[0;34m=\u001b[0m \u001b[0;36m0.2\u001b[0m\u001b[0;34m,\u001b[0m \u001b[0mrandom_state\u001b[0m \u001b[0;34m=\u001b[0m \u001b[0mRANDOM_SEED\u001b[0m\u001b[0;34m)\u001b[0m\u001b[0;34m\u001b[0m\u001b[0;34m\u001b[0m\u001b[0m\n\u001b[0m",
            "\u001b[0;31mNameError\u001b[0m: name 'X' is not defined"
          ]
        }
      ]
    },
    {
      "cell_type": "code",
      "source": [
        "print('me')"
      ],
      "metadata": {
        "colab": {
          "base_uri": "https://localhost:8080/"
        },
        "id": "clsaHPKVA9-9",
        "outputId": "54cfcd0d-3e79-40b0-9eb3-9c8c8c59e56c"
      },
      "execution_count": 33,
      "outputs": [
        {
          "output_type": "stream",
          "name": "stdout",
          "text": [
            "me\n"
          ]
        }
      ]
    },
    {
      "cell_type": "code",
      "source": [
        "MNB = MultinomialNaiveBayes(\n",
        "    classes = np.unque(y),\n",
        "    tokenizer = Tokenizer()\n",
        ").fit(X_train, y_train)\n",
        "\n",
        "y_hat = MNB.predict(X-tset)\n",
        "\n",
        "accuracy_score(y_test, y_hat)\n",
        "\n",
        "print(classification_report(y_test, y_hat))\n",
        "\n",
        "cnf_matrix = confusion_matrix(y_tset, y_hat)\n",
        "cnf_matrix\n"
      ],
      "metadata": {
        "id": "qrWVj-6pA9rK"
      },
      "execution_count": null,
      "outputs": []
    },
    {
      "cell_type": "code",
      "source": [],
      "metadata": {
        "id": "ihgiq8KzDlFP"
      },
      "execution_count": null,
      "outputs": []
    },
    {
      "cell_type": "code",
      "source": [
        "class_names = [\"negative\", \"positive\"]\n",
        "fig.ax = plt.subplots()"
      ],
      "metadata": {
        "id": "Eu8OSKrODklg"
      },
      "execution_count": null,
      "outputs": []
    },
    {
      "cell_type": "code",
      "source": [
        "print(\"me\")"
      ],
      "metadata": {
        "colab": {
          "base_uri": "https://localhost:8080/"
        },
        "id": "2fAk24vtD8aT",
        "outputId": "744982ef-6ee7-48b2-e7a1-4218600b2a7f"
      },
      "execution_count": 36,
      "outputs": [
        {
          "output_type": "stream",
          "name": "stdout",
          "text": [
            "me\n"
          ]
        }
      ]
    },
    {
      "cell_type": "code",
      "source": [
        "sns.heatmap(pd.DataFrame(cnf_matrix), annot = True, cmap = \"Blues\", fmt = \"d\", cbar=False, xticklabels=class_names, yticklabel=)\n",
        "ax.xaxis.set_label_position('top')\n",
        "plt.tight_layout()\n",
        "plt.ylabel('Positive Policy')\n",
        "plt.xlabel('Negative Policy');\n"
      ],
      "metadata": {
        "id": "1bInu8_TD8A5",
        "colab": {
          "base_uri": "https://localhost:8080/",
          "height": 130
        },
        "outputId": "f30d60b0-11aa-4054-d234-e2aedc371be3"
      },
      "execution_count": 37,
      "outputs": [
        {
          "output_type": "error",
          "ename": "SyntaxError",
          "evalue": "ignored",
          "traceback": [
            "\u001b[0;36m  File \u001b[0;32m\"<ipython-input-37-7aea24d2dd29>\"\u001b[0;36m, line \u001b[0;32m1\u001b[0m\n\u001b[0;31m    sns.heatmap(pd.DataFrame(cnf_matrix), annot = True, cmap = \"Blues\", fmt = \"d\", cbar=False, xticklabels=class_names, yticklabel=)\u001b[0m\n\u001b[0m                                                                                                                                   ^\u001b[0m\n\u001b[0;31mSyntaxError\u001b[0m\u001b[0;31m:\u001b[0m invalid syntax\n"
          ]
        }
      ]
    }
  ]
}
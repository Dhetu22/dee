{
  "nbformat": 4,
  "nbformat_minor": 0,
  "metadata": {
    "colab": {
      "provenance": [],
      "authorship_tag": "ABX9TyMKofEuqpH3Vm+46BURVx8h",
      "include_colab_link": true
    },
    "kernelspec": {
      "name": "python3",
      "display_name": "Python 3"
    },
    "language_info": {
      "name": "python"
    }
  },
  "cells": [
    {
      "cell_type": "markdown",
      "metadata": {
        "id": "view-in-github",
        "colab_type": "text"
      },
      "source": [
        "<a href=\"https://colab.research.google.com/github/Dhetu22/dee/blob/main/myWork012.ipynb\" target=\"_parent\"><img src=\"https://colab.research.google.com/assets/colab-badge.svg\" alt=\"Open In Colab\"/></a>"
      ]
    },
    {
      "cell_type": "code",
      "execution_count": null,
      "metadata": {
        "id": "mbQqOUCGr8HA"
      },
      "outputs": [],
      "source": [
        "import numpy as np\n",
        "import pandas as pd\n",
        "import seaborn as sns\n",
        "from pylab import rcParams\n",
        "import strings\n",
        "import re\n",
        "import matplotlib.pyplot as plt\n",
        "import math\n",
        "from matplotlib import rc\n",
        "from sklearn.model_selection import train_test_split\n",
        "from collections import Counter, defaultdict\n",
        "from bs4 import BeautifulSoup\n",
        "from sklearn.metrics import accuracy_score\n",
        "from sklearn.metrics import classification_report, confusion_metrix\n",
        "import nltk\n",
        "from nltk import.corpus import stopwords"
      ]
    },
    {
      "cell_type": "code",
      "source": [],
      "metadata": {
        "id": "BVozXeMCvi4g"
      },
      "execution_count": null,
      "outputs": []
    },
    {
      "cell_type": "code",
      "source": [
        "sns.set(style='whitegrid', palette='muted', font_scale=1.5)\n",
        "rcParams['figure.figsize'] = 8, 4\n",
        "RANDOM_SEED = 42\n",
        "np.random.seedRANDOM_SEED)"
      ],
      "metadata": {
        "id": "VauihTOHvj9N"
      },
      "execution_count": null,
      "outputs": []
    },
    {
      "cell_type": "code",
      "source": [],
      "metadata": {
        "id": "hmVWiuBe0vnY"
      },
      "execution_count": null,
      "outputs": []
    },
    {
      "cell_type": "code",
      "source": [
        "train = pd.read_csv(\"\", delimiter=\"\\t\")\n",
        "test = pd,read_csv(\"\", delimiter=\"\\t\")"
      ],
      "metadata": {
        "id": "OzfUhCwk0vN4"
      },
      "execution_count": null,
      "outputs": []
    },
    {
      "cell_type": "code",
      "source": [],
      "metadata": {
        "id": "iSbl2sK01cpR"
      },
      "execution_count": null,
      "outputs": []
    },
    {
      "cell_type": "code",
      "source": [
        "print(train.head())"
      ],
      "metadata": {
        "id": "evhkUG0Z1dei"
      },
      "execution_count": null,
      "outputs": []
    },
    {
      "cell_type": "code",
      "source": [],
      "metadata": {
        "id": "hjFNuSw51s7q"
      },
      "execution_count": null,
      "outputs": []
    },
    {
      "cell_type": "code",
      "source": [
        "f = sns.countplot(='sentiment', data=train)\n",
        "f.set_title(\"sentiment distribution\")\n",
        "f.set_xticklabels(['Negative', 'Positive'])\n",
        "plt.xlabel(\"\");"
      ],
      "metadata": {
        "id": "AHvBctNm1tjj"
      },
      "execution_count": null,
      "outputs": []
    },
    {
      "cell_type": "code",
      "source": [
        "class Tokenizer:\n",
        "\n",
        "  def clean(self, text):\n",
        "    no_html = BeautifulSoup(text, \"html.parser\").get_text()\n",
        "    clean = re.sub(\"[^a-z\\s]+\", \" \" no_html, flags.IGNORECASE)\n",
        "    return re.sub(\"(\\s+)\", \" \", clean)\n",
        "  \n",
        "  def tokenize(self, text):\n",
        "    clean = self.clean(text).lower()\n",
        "    stopwords_en = stopwords.words(\"english\")\n",
        "    return [w for w in re.split(\"\\W+\", clean) if not w in stopwords_en]"
      ],
      "metadata": {
        "id": "Ykiu6mAa3Bye"
      },
      "execution_count": null,
      "outputs": []
    },
    {
      "cell_type": "code",
      "source": [],
      "metadata": {
        "id": "20aYL5OA5EuB"
      },
      "execution_count": null,
      "outputs": []
    },
    {
      "cell_type": "code",
      "source": [
        "class MultinomialNaiveBayes:\n",
        "\n",
        "  def _init_(self, classes, tokenizer):\n",
        "    self.tokenizer = tokenizer\n",
        "    self.classes = classes\n",
        "\n",
        "    def group by class(self, X, y):\n",
        "      data = dict()\n",
        "      for c in self.classes:\n",
        "        data[c] = X[np.where(y == c)]\n",
        "      return data\n",
        "\n",
        "# creating the model\n",
        "    def fit(self, X, y):\n",
        "      self.n_class_priors = {}\n",
        "      self.word_counts = {}\n",
        "      self.vocab = set()\n",
        "\n",
        "      n = len(X)\n",
        "\n",
        "      grouped_data = self.gruop_by_class(X, y)\n",
        "\n",
        "      for c, data in grouped_data.items():\n",
        "        self.n_class_items[c] = len(data)\n",
        "        self.log_class_priors[c] = math.log(self.n_class_items[c]/n)\n",
        "        self.word_counts = defaultdict(lamda: 0)\n",
        "\n",
        "        for text in data:\n",
        "          counts = Counter(self.tokenizer.tokenize(text))\n",
        "          for word, count in count.items():\n",
        "            if word not in self.vocab:\n",
        "              self.vocab.add(word)\n",
        "\n",
        "            self.word_counts[c][word]  += count\n",
        "      return self\n",
        "\n",
        "      def laplace_smoothing(self, word, text_class):\n",
        "        num = self.word_counts[text_class][word] + 1\n",
        "        denom = self.n_class_items[tet_class] + len(self.vocab)\n",
        "        return math.log(num/denom)\n",
        "\n",
        "      \n",
        "      def predict(self, X):\n",
        "        result = []\n",
        "        for text in X:\n",
        "\n",
        "          class = scores = (c: self.log_class_priors[c] for c in self.classes)\n",
        "\n",
        "          words = set(self, tokenizer.tokenize(text))\n",
        "          for word in words:\n",
        "            if word not iin self.vocab: continue\n",
        "\n",
        "            for c in self.classes:\n",
        "\n",
        "              log_w_given_c = self.laplace_smooothing(word, c)\n",
        "              class_score[c] += log_w_given_c\n",
        "\n",
        "          result.append(max(class_score, keyclass_score.get))\n",
        "\n",
        "        return result"
      ],
      "metadata": {
        "id": "6IfmdFWq5Gzn"
      },
      "execution_count": null,
      "outputs": []
    },
    {
      "cell_type": "code",
      "source": [],
      "metadata": {
        "id": "NFdUx2aAAGEp"
      },
      "execution_count": null,
      "outputs": []
    },
    {
      "cell_type": "code",
      "source": [
        "X = train['review'].values\n",
        "y = train['sentiment'].values\n",
        "\n",
        "X_train, X_test, y_train, y_test = train_test_split(X, y, test_size = 0.2, random_state = RANDOM_SEED)"
      ],
      "metadata": {
        "id": "MIQV-b6RAE4u"
      },
      "execution_count": null,
      "outputs": []
    },
    {
      "cell_type": "code",
      "source": [
        "print('me')"
      ],
      "metadata": {
        "colab": {
          "base_uri": "https://localhost:8080/"
        },
        "id": "clsaHPKVA9-9",
        "outputId": "4b3d22b4-4c0f-4d5d-fe4c-bb6d87692fe8"
      },
      "execution_count": 1,
      "outputs": [
        {
          "output_type": "stream",
          "name": "stdout",
          "text": [
            "me\n"
          ]
        }
      ]
    },
    {
      "cell_type": "code",
      "source": [
        "MNB = MultinomialNaiveBayes(\n",
        "    classes = np.unque(y),\n",
        "    tokenizer = Tokenizer()\n",
        ").fit(X_train, y_train)\n",
        "\n",
        "y_hat = MNB.predict(X-tset)\n",
        "\n",
        "accuracy_score(y_test, y_hat)\n",
        "\n",
        "print(classification_report(y_test, y_hat))\n",
        "\n",
        "cnf_matrix = confusion_matrix(y_tset, y_hat)\n",
        "cnf_matrix\n"
      ],
      "metadata": {
        "id": "qrWVj-6pA9rK"
      },
      "execution_count": null,
      "outputs": []
    },
    {
      "cell_type": "code",
      "source": [],
      "metadata": {
        "id": "ihgiq8KzDlFP"
      },
      "execution_count": null,
      "outputs": []
    },
    {
      "cell_type": "code",
      "source": [
        "class_names = [\"negative\", \"positive\"]\n",
        "fig.ax = plt.subplots()"
      ],
      "metadata": {
        "id": "Eu8OSKrODklg"
      },
      "execution_count": null,
      "outputs": []
    },
    {
      "cell_type": "code",
      "source": [
        "print(\"me\")"
      ],
      "metadata": {
        "colab": {
          "base_uri": "https://localhost:8080/"
        },
        "id": "2fAk24vtD8aT",
        "outputId": "2c20a7a0-7a42-49b1-e90b-6f442d387836"
      },
      "execution_count": 2,
      "outputs": [
        {
          "output_type": "stream",
          "name": "stdout",
          "text": [
            "me\n"
          ]
        }
      ]
    },
    {
      "cell_type": "code",
      "source": [
        "sns.heatmap(pd.DataFrame(cnf_matrix), annot = True, cmap = \"Blues\", fmt = \"d\", cbar=False, xticklabels=class_names, yticklabel=)\n",
        "ax.xaxis.set_label_position('top')\n",
        "plt.tight_layout()\n",
        "plt.ylabel('Positive Policy')\n",
        "plt.xlabel('Negative Policy');\n"
      ],
      "metadata": {
        "id": "1bInu8_TD8A5"
      },
      "execution_count": null,
      "outputs": []
    }
  ]
}
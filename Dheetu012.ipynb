{
  "nbformat": 4,
  "nbformat_minor": 0,
  "metadata": {
    "colab": {
      "provenance": [],
      "toc_visible": true,
      "authorship_tag": "ABX9TyMVC9KC5KTFt9T6gA9Qpqwl",
      "include_colab_link": true
    },
    "kernelspec": {
      "name": "python3",
      "display_name": "Python 3"
    },
    "language_info": {
      "name": "python"
    }
  },
  "cells": [
    {
      "cell_type": "markdown",
      "metadata": {
        "id": "view-in-github",
        "colab_type": "text"
      },
      "source": [
        "<a href=\"https://colab.research.google.com/github/Dhetu22/dee/blob/main/Dheetu012.ipynb\" target=\"_parent\"><img src=\"https://colab.research.google.com/assets/colab-badge.svg\" alt=\"Open In Colab\"/></a>"
      ]
    },
    {
      "cell_type": "code",
      "execution_count": null,
      "metadata": {
        "id": "MRd7MRdHSN4N"
      },
      "outputs": [],
      "source": [
        "!pip install scikit-learn\n"
      ]
    },
    {
      "cell_type": "code",
      "source": [
        "!pip install numpy\n"
      ],
      "metadata": {
        "id": "8XXolLJVSUhj"
      },
      "execution_count": null,
      "outputs": []
    },
    {
      "cell_type": "code",
      "source": [
        "!pip install pandas\n"
      ],
      "metadata": {
        "id": "DNgjBqp3SYGU"
      },
      "execution_count": null,
      "outputs": []
    },
    {
      "cell_type": "code",
      "source": [
        "!pip install strings"
      ],
      "metadata": {
        "id": "zBnHBRvVToZT"
      },
      "execution_count": null,
      "outputs": []
    },
    {
      "cell_type": "code",
      "source": [
        "!pip install nltk"
      ],
      "metadata": {
        "colab": {
          "base_uri": "https://localhost:8080/"
        },
        "id": "XA9tsTsy_jlG",
        "outputId": "2d049d17-88c1-4ec0-d43d-1fdc865ea293"
      },
      "execution_count": null,
      "outputs": [
        {
          "output_type": "stream",
          "name": "stdout",
          "text": [
            "Looking in indexes: https://pypi.org/simple, https://us-python.pkg.dev/colab-wheels/public/simple/\n",
            "Requirement already satisfied: nltk in /usr/local/lib/python3.10/dist-packages (3.8.1)\n",
            "Requirement already satisfied: click in /usr/local/lib/python3.10/dist-packages (from nltk) (8.1.3)\n",
            "Requirement already satisfied: joblib in /usr/local/lib/python3.10/dist-packages (from nltk) (1.2.0)\n",
            "Requirement already satisfied: regex>=2021.8.3 in /usr/local/lib/python3.10/dist-packages (from nltk) (2022.10.31)\n",
            "Requirement already satisfied: tqdm in /usr/local/lib/python3.10/dist-packages (from nltk) (4.65.0)\n"
          ]
        }
      ]
    },
    {
      "cell_type": "code",
      "source": [
        "import numpy as np\n",
        "import pandas as pd\n",
        "from sklearn.naive_bayes import GaussianNB\n",
        "import seaborn as sns\n",
        "from pylab import rcParams\n",
        "import string\n",
        "import re\n",
        "import matplotlib.pyplot as plt\n",
        "import math\n",
        "from matplotlib import rc\n",
        "from sklearn.model_selection import train_test_split\n",
        "from collections import Counter, defaultdict\n",
        "from bs4 import BeautifulSoup\n",
        "from sklearn.metrics import accuracy_score\n",
        "from sklearn.metrics import classification_report\n",
        "import nltk\n",
        "from nltk.corpus import stopwords\n",
        "from sklearn.utils.fixes import sklearn\n"
      ],
      "metadata": {
        "id": "9W1nQZbtSbdi"
      },
      "execution_count": null,
      "outputs": []
    },
    {
      "cell_type": "code",
      "source": [
        "df = pd.read_csv('User data.txt')\n",
        "df"
      ],
      "metadata": {
        "id": "PE8rZL-8SsTo"
      },
      "execution_count": null,
      "outputs": []
    },
    {
      "cell_type": "code",
      "source": [
        "sns.set(style='whitegrid', palette='muted', font_scale=1.5)\n",
        "rcParams['figure.figsize'] = 8, 4\n",
        "RANDOM_SEED = 42\n",
        "# np.random.seedRANDOM_SEED)"
      ],
      "metadata": {
        "id": "sl-yPPu8VZf1"
      },
      "execution_count": null,
      "outputs": []
    },
    {
      "cell_type": "code",
      "source": [
        "train = pd.read_csv(\"User data.txt\", delimiter=\"\\t\")\n",
        "test = pd.read_csv(\"User data.txt\", delimiter=\"\\t\")"
      ],
      "metadata": {
        "id": "KNiL-YFyVhWX"
      },
      "execution_count": null,
      "outputs": []
    },
    {
      "cell_type": "code",
      "source": [
        "f = df"
      ],
      "metadata": {
        "id": "HbBV0pK0WU9e"
      },
      "execution_count": null,
      "outputs": []
    },
    {
      "cell_type": "code",
      "source": [
        "print(train.head())"
      ],
      "metadata": {
        "id": "I9ZjZXeKV2zX"
      },
      "execution_count": null,
      "outputs": []
    },
    {
      "cell_type": "code",
      "source": [
        "# f = sns.countplot('sentiment', data=train)\n",
        "# f.set_title(\"sentiment distribution\")\n",
        "# f.set_xticklabels(['Negative', 'Positive'])\n",
        "plt.xlabel(\"\");"
      ],
      "metadata": {
        "id": "MR39Zy6zV6eF"
      },
      "execution_count": null,
      "outputs": []
    },
    {
      "cell_type": "code",
      "source": [
        "class Tokenizer:\n",
        "\n",
        "  def clean(self, text):\n",
        "    no_html = BeautifulSoup(text, \"html.parser\").get_text()\n",
        "    # clean = re.sub(\"[^a-z\\s]+\", \" \" no_html, flags.IGNORECASE)\n",
        "    return re.sub(\"(\\s+)\", \" \", clean)\n",
        "  \n",
        "  def tokenize(self, text):\n",
        "    clean = self.clean(text).lower()\n",
        "    stopwords_en = stopwords.words(\"english\")\n",
        "    return [w for w in re.split(\"\\W+\", clean) if not w in stopwords_en]"
      ],
      "metadata": {
        "id": "Pt5V2J-wW-SM"
      },
      "execution_count": null,
      "outputs": []
    },
    {
      "cell_type": "code",
      "source": [
        "import math\n",
        "from collections import Counter, defaultdict\n",
        "\n",
        "class MultinomialNaiveBayes:\n",
        "    \n",
        "    def __init__(self, classes, tokenizer):\n",
        "        self.tokenizer = tokenizer\n",
        "        self.classes = classes\n",
        "        self.n_class_items = {}\n",
        "        self.log_class_priors = {}\n",
        "        self.word_counts = {}\n",
        "        self.vocab = set()\n",
        "    \n",
        "    def group_by_class(self, X, y):\n",
        "        data = {}\n",
        "        for c in self.classes:\n",
        "            data[c] = X[np.where(y == c)]\n",
        "        return data\n",
        "    \n",
        "    def fit(self, X, y):\n",
        "        n = len(X)\n",
        "        grouped_data = self.group_by_class(X, y)\n",
        "        for c, data in grouped_data.items():\n",
        "            self.n_class_items[c] = len(data)\n",
        "            self.log_class_priors[c] = math.log(self.n_class_items[c] / n)\n",
        "            self.word_counts[c] = defaultdict(lambda: 0)\n",
        "            for text in data:\n",
        "                counts = Counter(self.tokenizer.tokenize(text))\n",
        "                for word, count in counts.items():\n",
        "                    if word not in self.vocab:\n",
        "                        self.vocab.add(word)\n",
        "                    self.word_counts[c][word] += count\n",
        "        return self\n",
        "    \n",
        "    def laplace_smoothing(self, word, text_class):\n",
        "        num = self.word_counts[text_class][word] + 1\n",
        "        denom = self.n_class_items[text_class] + len(self.vocab)\n",
        "        return math.log(num / denom)\n",
        "    \n",
        "    def predict(self, X):\n",
        "        results = []\n",
        "        for text in X:\n",
        "            class_scores = {c: self.log_class_priors[c] for c in self.classes}\n",
        "            words = set(self.tokenizer.tokenize(text))\n",
        "            for word in words:\n",
        "                if word not in self.vocab:\n",
        "                    continue\n",
        "                for c in self.classes:\n",
        "                    log_w_given_c = self.laplace_smoothing(word, c)\n",
        "                    class_scores[c] += log_w_given_c\n",
        "            results.append(max(class_scores, key=class_scores.get))\n",
        "        return results\n"
      ],
      "metadata": {
        "id": "IBBJCSFzXONu"
      },
      "execution_count": null,
      "outputs": []
    },
    {
      "cell_type": "code",
      "source": [
        "X = train.values\n",
        "y = train.values\n",
        "\n",
        "X_train, X_test, y_train, y_test = train_test_split(X, y, test_size = 0.2, random_state = RANDOM_SEED)"
      ],
      "metadata": {
        "id": "SZRf1elYYi_h"
      },
      "execution_count": null,
      "outputs": []
    },
    {
      "cell_type": "code",
      "source": [
        "import requests\n",
        "\n",
        "url = \"https://policies.google.com/privacy\"\n",
        "response = requests.get(url)\n",
        "\n",
        "from nltk.sentiment import SentimentIntensityAnalyzer\n",
        "\n",
        "\n",
        "analyzer = SentimentIntensityAnalyzer()\n",
        "\n",
        "def analyze_sentiment(text):\n",
        "    scores = analyzer.polarity_scores(text)\n",
        "    if scores['compound'] >= 0.05:\n",
        "        return 'Positive Policy'\n",
        "    elif scores['compound'] <= -0.05:\n",
        "        return 'Negative Policy'\n",
        "    else:\n",
        "        return 'Negative Policy'\n",
        "        \n",
        "\n",
        "print('Welcome to the Privacy Policy Sentiment Analyzer!')\n",
        "\n",
        "input_text = input ('Please enter a privacy policy URL to analyze: ')\n",
        "output_sentiment = analyze_sentiment(input_text)\n",
        "print(output_sentiment)\n",
        "\n"
      ],
      "metadata": {
        "id": "wr6QJfvE_XpA",
        "colab": {
          "base_uri": "https://localhost:8080/"
        },
        "outputId": "1db43fb4-8f1a-4cf5-ce70-6a8d0b786a2f"
      },
      "execution_count": 96,
      "outputs": [
        {
          "output_type": "stream",
          "name": "stdout",
          "text": [
            "Welcome to the Privacy Policy Sentiment Analyzer!\n",
            "Please enter a privacy policy URL to analyze: HEY YO\n",
            "Negative Policy\n"
          ]
        }
      ]
    }
  ]
}
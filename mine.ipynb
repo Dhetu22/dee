{
  "nbformat": 4,
  "nbformat_minor": 0,
  "metadata": {
    "colab": {
      "provenance": [],
      "authorship_tag": "ABX9TyNp114+5oBrT9CepRUoMs9j",
      "include_colab_link": true
    },
    "kernelspec": {
      "name": "python3",
      "display_name": "Python 3"
    },
    "language_info": {
      "name": "python"
    }
  },
  "cells": [
    {
      "cell_type": "markdown",
      "metadata": {
        "id": "view-in-github",
        "colab_type": "text"
      },
      "source": [
        "<a href=\"https://colab.research.google.com/github/Dhetu22/dee/blob/main/mine.ipynb\" target=\"_parent\"><img src=\"https://colab.research.google.com/assets/colab-badge.svg\" alt=\"Open In Colab\"/></a>"
      ]
    },
    {
      "cell_type": "code",
      "execution_count": null,
      "metadata": {
        "id": "3Bo9X_5_MBFv"
      },
      "outputs": [],
      "source": [
        "import pandas as pd\n",
        "import numpy as np"
      ]
    },
    {
      "cell_type": "code",
      "source": [],
      "metadata": {
        "id": "XhT9EaX94XRf"
      },
      "execution_count": null,
      "outputs": []
    },
    {
      "cell_type": "code",
      "source": [
        "import nltk\n",
        "from nltk.corpus import stopwords\n",
        "from sklearn import naive_bayes\n",
        "from sklearn.naive_bayes import GaussianNB\n",
        "from sklearn.model_selection import train_test_split\n",
        "from sklearn.metrics import classification_report\n",
        "import seaborn as sns\n",
        "import matplotlib.pyplot as plt\n",
        "from random import randint\n",
        "%matplotlib inline \n",
        "import warnings\n",
        "warnings.filterwarnings(\"ignore\")\n"
      ],
      "metadata": {
        "id": "e3J6xXbTX1fP"
      },
      "execution_count": 28,
      "outputs": []
    },
    {
      "cell_type": "code",
      "source": [],
      "metadata": {
        "id": "aDWKfSHz4V5r"
      },
      "execution_count": null,
      "outputs": []
    },
    {
      "cell_type": "code",
      "source": [
        "from sklearn.model_selection import train_test_split\n",
        "def split(df,label):\n",
        "    X_tr, X_te, Y_tr, Y_te = train_test_split(df.iloc[:, :-1], label, test_size=0.25, random_state=42)\n",
        "    return X_tr, X_te, Y_tr, Y_te\n",
        "\n",
        "\n",
        "# data preprocessing\n",
        "\n",
        "from sklearn.preprocessing import LabelEncoder\n",
        "df = pd.read_csv('vgsales.csv')\n",
        "pd\n",
        "\n"
      ],
      "metadata": {
        "id": "mMThfAqj4YqC"
      },
      "execution_count": null,
      "outputs": []
    },
    {
      "cell_type": "code",
      "source": [],
      "metadata": {
        "id": "p6L7i0bh4aLq"
      },
      "execution_count": null,
      "outputs": []
    },
    {
      "cell_type": "code",
      "source": [
        "from sklearn.feature_selection import RFE\n",
        "from sklearn.linear_model import LogisticRegression\n",
        "from sklearn.neighbors import KNeighborsClassifier\n",
        "from sklearn import svm\n",
        "from sklearn import metrics\n",
        "from sklearn.metrics import accuracy_score\n",
        "from sklearn.model_selection import KFold, cross_val_score\n",
        "\n",
        "\n",
        "classifiers = ['Naive Bayes', 'Support vector Machine', 'KNeighbors']"
      ],
      "metadata": {
        "id": "ae3Ur9yl4l4w"
      },
      "execution_count": null,
      "outputs": []
    },
    {
      "cell_type": "code",
      "source": [],
      "metadata": {
        "id": "cXm35gM-4_Vy"
      },
      "execution_count": null,
      "outputs": []
    },
    {
      "cell_type": "code",
      "source": [
        "X = df.drop(\"target_column\", axis=1)\n",
        "y = df[\"target_column\"]\n",
        "\n",
        "model = [GaussianNB(max_iter = 100),\n",
        " svm.SVC(kernel='rbf'), KNeighborsClassifier()]\n"
      ],
      "metadata": {
        "id": "P-9_LYlM4_zI"
      },
      "execution_count": null,
      "outputs": []
    },
    {
      "cell_type": "code",
      "source": [],
      "metadata": {
        "id": "tV1Xe77C5-1_"
      },
      "execution_count": null,
      "outputs": []
    },
    {
      "cell_type": "code",
      "source": [
        "def acc_score(df,label):\n",
        "    Score = pd.DataFrame({\"Classifier\":classifiers})\n",
        "    j = 0\n",
        "    acc = []\n",
        "   # X = df.iloc[:, : -1]\n",
        "    X_train,X_test,Y_train,Y_test = split(df,label)\n",
        "    for i in models:\n",
        "        model = i\n",
        "        model.fit(X_train,Y_train)\n",
        "        predictions = model.predict(X_test)\n",
        "        acc.append(accuracy_score(Y_test,predictions))\n",
        "        j = j+1     \n",
        "    Score[\"Accuracy\"] = acc\n",
        "    Score.sort_values(by=\"Accuracy\", ascending=False,inplace = True)\n",
        "    Score.reset_index(drop=True, inplace=True)\n",
        "    #joblib.dump(model, 'diabetes_prediction_model.joblib')\n",
        "    return Score"
      ],
      "metadata": {
        "id": "XO9N0ruv5-5j"
      },
      "execution_count": null,
      "outputs": []
    },
    {
      "cell_type": "code",
      "source": [],
      "metadata": {
        "id": "sAru2w8l6GTf"
      },
      "execution_count": null,
      "outputs": []
    },
    {
      "cell_type": "code",
      "source": [
        "def plot(score,x,y,c = \"b\"):\n",
        "    gen = [1,2,3,4,5]\n",
        "    plt.figure(figsize=(6,4))\n",
        "    ax = sns.pointplot(x=gen, y=score,color = c )\n",
        "    ax.set(xlabel=\"Generation\", ylabel=\"Accuracy\")\n",
        "    ax.set(ylim=(x,y))"
      ],
      "metadata": {
        "id": "_W1LKo7T6Gdh"
      },
      "execution_count": null,
      "outputs": []
    },
    {
      "cell_type": "code",
      "source": [],
      "metadata": {
        "id": "wztuzTfL6eT6"
      },
      "execution_count": null,
      "outputs": []
    },
    {
      "cell_type": "code",
      "source": [
        "def initilization_of_population(size,n_feat):\n",
        "    population = []\n",
        "    for i in range(size):\n",
        "        chromosome = np.ones(n_feat,dtype=np.bool)     \n",
        "        chromosome[:int(0.3*n_feat)]=False             \n",
        "        np.random.shuffle(chromosome)\n",
        "        population.append(chromosome)\n",
        "    return population\n",
        "\n",
        "\n"
      ],
      "metadata": {
        "id": "ul8TbP2-6fDJ"
      },
      "execution_count": null,
      "outputs": []
    },
    {
      "cell_type": "code",
      "source": [
        "def fitness_score(population):\n",
        "    scores = []\n",
        "    for chromosome in population:\n",
        "        logmodel.fit(X_train.iloc[:,chromosome],Y_train)         \n",
        "        predictions = logmodel.predict(X_test.iloc[:,chromosome])\n",
        "        scores.append(accuracy_score(Y_test,predictions))\n",
        "    scores, population = np.array(scores), np.array(population) \n",
        "    inds = np.argsort(scores)                                    \n",
        "    return list(scores[inds][::-1]), list(population[inds,:][::-1]) "
      ],
      "metadata": {
        "id": "_OAkYE5Z7TS7"
      },
      "execution_count": null,
      "outputs": []
    },
    {
      "cell_type": "code",
      "source": [
        "def selection(pop_after_fit,n_parents):\n",
        "    population_nextgen = []\n",
        "    for i in range(n_parents):\n",
        "        population_nextgen.append(pop_after_fit[i])\n",
        "    return population_nextgen"
      ],
      "metadata": {
        "id": "GDKRawq-7bAr"
      },
      "execution_count": null,
      "outputs": []
    },
    {
      "cell_type": "code",
      "source": [
        "def crossover(pop_after_sel):\n",
        "    pop_nextgen = pop_after_sel\n",
        "    for i in range(0,len(pop_after_sel),2):\n",
        "        new_par = []\n",
        "        child_1 , child_2 = pop_nextgen[i] , pop_nextgen[i+1]\n",
        "        new_par = np.concatenate((child_1[:len(child_1)//2],child_2[len(child_1)//2:]))\n",
        "        pop_nextgen.append(new_par)\n",
        "    return pop_nextgen\n",
        "    "
      ],
      "metadata": {
        "id": "jH6ukzw47dT9"
      },
      "execution_count": null,
      "outputs": []
    },
    {
      "cell_type": "code",
      "source": [
        "import seaborn as sns\n",
        "import matplotlib.pyplot as plt\n",
        "from random import randint\n",
        "%matplotlib inline \n",
        "import warnings\n",
        "warnings.filterwarnings(\"ignore\")\n",
        "\n",
        "from sklearn.model_selection import train_test_split\n",
        "def split(df,label):\n",
        "    X_tr, X_te, Y_tr, Y_te = train_test_split(df.iloc[:, :-1], label, test_size=0.25, random_state=42)\n",
        "    return X_tr, X_te, Y_tr, Y_te\n",
        "\n",
        "from sklearn.feature_selection import RFE\n",
        "from sklearn.linear_model import LogisticRegression\n",
        "from sklearn.neighbors import KNeighborsClassifier\n",
        "from sklearn import svm\n",
        "from sklearn import metrics\n",
        "from sklearn.metrics import accuracy_score\n",
        "from sklearn.model_selection import KFold, cross_val_score\n"
      ],
      "metadata": {
        "id": "jnnuQ2IZ2BJB"
      },
      "execution_count": null,
      "outputs": []
    },
    {
      "cell_type": "code",
      "source": [
        "def mutation(pop_after_cross,mutation_rate,n_feat):   \n",
        "    mutation_range = int(mutation_rate*n_feat)\n",
        "    pop_next_gen = []\n",
        "    for n in range(0,len(pop_after_cross)):\n",
        "        chromo = pop_after_cross[n]\n",
        "        rand_posi = [] \n",
        "        for i in range(0,mutation_range):\n",
        "            pos = randint(0,n_feat-1)\n",
        "            rand_posi.append(pos)\n",
        "        for j in rand_posi:\n",
        "            chromo[j] = not chromo[j]  \n",
        "        pop_next_gen.append(chromo)\n",
        "    return pop_next_gen"
      ],
      "metadata": {
        "id": "0kStaDah7ok0"
      },
      "execution_count": null,
      "outputs": []
    },
    {
      "cell_type": "code",
      "source": [
        "def mutation(pop_after_cross,mutation_rate,n_feat):   \n",
        "    mutation_range = int(mutation_rate*n_feat)\n",
        "    pop_next_gen = []\n",
        "    for n in range(0,len(pop_after_cross)):\n",
        "        chromo = pop_after_cross[n]\n",
        "        rand_posi = [] \n",
        "        for i in range(0,mutation_range):\n",
        "            pos = randint(0,n_feat-1)\n",
        "            rand_posi.append(pos)\n",
        "        for j in rand_posi:\n",
        "            chromo[j] = not chromo[j]  \n",
        "        pop_next_gen.append(chromo)\n",
        "    return pop_next_gen"
      ],
      "metadata": {
        "id": "OAN55VvL7w66"
      },
      "execution_count": null,
      "outputs": []
    },
    {
      "cell_type": "code",
      "source": [
        "from google.colab import files\n",
        "uploaded = files.upload()"
      ],
      "metadata": {
        "id": "k0wouacj718k"
      },
      "execution_count": null,
      "outputs": []
    },
    {
      "cell_type": "code",
      "source": [],
      "metadata": {
        "id": "lK5WFfrm8Hjg"
      },
      "execution_count": null,
      "outputs": []
    },
    {
      "cell_type": "code",
      "source": [
        "ata_db = pd.read_csv(\"diabetes_data.csv\").sample(frac = 1).reset_index(drop = True).drop([])\n",
        "label_db = data_db[\"CLASS\"]\n",
        "\n",
        "\n",
        "print(\"Diabetes disease dataset:\\n\",data_db.shape[0],\"Records\\n\",data_db.shape[1],\"Features\")"
      ],
      "metadata": {
        "id": "D0_lRhOM8HnL"
      },
      "execution_count": null,
      "outputs": []
    },
    {
      "cell_type": "code",
      "source": [],
      "metadata": {
        "id": "QXPyHK0F8OT1"
      },
      "execution_count": null,
      "outputs": []
    },
    {
      "cell_type": "code",
      "source": [
        "#data cleaning\n",
        "data_db['CLASS'] = [2 if CLASS.strip() == 'Y' else 0 if CLASS.strip() == 'N' else 1 for CLASS in data_db['CLASS']]\n",
        "data_db['Gender'] = [0 if Gender.strip() in ['f', 'F'] else 1 if Gender.strip() == 'M' else None for Gender in data_db['Gender']]"
      ],
      "metadata": {
        "id": "84zEwKeK8Oox"
      },
      "execution_count": null,
      "outputs": []
    },
    {
      "cell_type": "code",
      "source": [
        "data_db.head(8)"
      ],
      "metadata": {
        "id": "2CTQ74dd8hij"
      },
      "execution_count": null,
      "outputs": []
    },
    {
      "cell_type": "code",
      "source": [
        "# Split dataset into input and output variables\n",
        "X = data_db.iloc[:, 0:13]\n",
        "Y = data_db.iloc[:, 13]"
      ],
      "metadata": {
        "id": "lPWXBkWP8hmP"
      },
      "execution_count": null,
      "outputs": []
    },
    {
      "cell_type": "code",
      "source": [
        "#performing feature selection to pick the mose prevalent variables\n",
        "from sklearn.tree import DecisionTreeClassifier\n",
        "from sklearn.model_selection import train_test_split\n",
        "\n",
        "\n",
        "\n",
        "# Split the data into training and testing sets\n",
        "X_train, X_test, y_train, y_test = train_test_split(X, Y, random_state=1)\n",
        "\n",
        "# Train a decision tree classifier on the training set\n",
        "dtc = DecisionTreeClassifier(random_state=0)\n",
        "dtc.fit(X_train, y_train)\n",
        "\n",
        "# Print the feature importances\n",
        "print(\"Feature importances:\\n{}\".format(dtc.feature_importances_))\n",
        "\n",
        "# Select the most important features\n",
        "important_features = [i for i in dtc.feature_importances_.tolist() if i > 0.0]\n",
        "#X_train_reduced = X_train[:, important_features]\n",
        "#X_test_reduced = X_test[:, important_features]"
      ],
      "metadata": {
        "id": "buerLRct8n1p"
      },
      "execution_count": null,
      "outputs": []
    },
    {
      "cell_type": "code",
      "source": [
        "reduced_data = data_db[['Gender', 'AGE', 'HbA1c', 'Chol', 'TG', 'VLDL', 'BMI', 'CLASS']]"
      ],
      "metadata": {
        "id": "JmR5T_Qq8n5C"
      },
      "execution_count": null,
      "outputs": []
    },
    {
      "cell_type": "code",
      "source": [
        "#predicting the result using K-means classifier\n",
        "import pandas as pd\n",
        "import numpy as np\n",
        "from sklearn.cluster import KMeans\n",
        "from sklearn.preprocessing import StandardScaler\n",
        "import matplotlib.pyplot as plt\n",
        "%matplotlib inline"
      ],
      "metadata": {
        "id": "GAvtcH2e8y-_"
      },
      "execution_count": null,
      "outputs": []
    },
    {
      "cell_type": "code",
      "source": [
        "#Preparing the dataset\n",
        "X = reduced_data.drop(\"CLASS\", axis = 1)\n",
        "\n",
        "scatterKnn = X.copy()\n",
        "scatterKnn"
      ],
      "metadata": {
        "id": "m9Z3jHT98zCj"
      },
      "execution_count": null,
      "outputs": []
    },
    {
      "cell_type": "code",
      "source": [],
      "metadata": {
        "id": "xWynLHuW9Nd_"
      },
      "execution_count": null,
      "outputs": []
    },
    {
      "cell_type": "code",
      "source": [
        "scaler = StandardScaler()\n",
        "X = scaler.fit_transform(X)"
      ],
      "metadata": {
        "id": "-4mvwsca9IRP"
      },
      "execution_count": null,
      "outputs": []
    },
    {
      "cell_type": "code",
      "source": [
        "scatterKnn = X.copy()"
      ],
      "metadata": {
        "id": "ezths97E9KS8"
      },
      "execution_count": null,
      "outputs": []
    },
    {
      "cell_type": "code",
      "source": [
        "scatterKnn"
      ],
      "metadata": {
        "id": "qRziUTPG9R_n"
      },
      "execution_count": null,
      "outputs": []
    },
    {
      "cell_type": "code",
      "source": [
        "X = pd.DataFrame(X)\n"
      ],
      "metadata": {
        "id": "_lIjhM-Y9do_"
      },
      "execution_count": null,
      "outputs": []
    },
    {
      "cell_type": "code",
      "source": [
        "X.columns = reduced_data.drop(\"CLASS\", axis = 1).columns"
      ],
      "metadata": {
        "id": "8nHBh_IC9dsd"
      },
      "execution_count": null,
      "outputs": []
    },
    {
      "cell_type": "code",
      "source": [
        "X"
      ],
      "metadata": {
        "id": "I7ryme-x9ybR"
      },
      "execution_count": null,
      "outputs": []
    },
    {
      "cell_type": "code",
      "source": [],
      "metadata": {
        "id": "vp2QBvwQ-OhO"
      },
      "execution_count": null,
      "outputs": []
    },
    {
      "cell_type": "code",
      "source": [
        "wcss = []\n",
        "for i in range(1, 11):\n",
        "    kmeans = KMeans(n_clusters=i, init='k-means++', random_state=42)\n",
        "    kmeans.fit(X)\n",
        "    wcss.append(kmeans.inertia_)\n",
        "plt.plot(range(1, 11), wcss)\n",
        "plt.title('Elbow Method')\n",
        "plt.xlabel('Number of clusters')\n",
        "plt.ylabel('WCSS')\n",
        "plt.show()"
      ],
      "metadata": {
        "id": "pyh74PIH-Okw"
      },
      "execution_count": null,
      "outputs": []
    },
    {
      "cell_type": "code",
      "source": [],
      "metadata": {
        "id": "VFlmDRy79z-u"
      },
      "execution_count": null,
      "outputs": []
    },
    {
      "cell_type": "code",
      "source": [
        "kmeans = KMeans(n_clusters=3, init='k-means++', random_state=42)\n",
        "kmeans.fit(X)"
      ],
      "metadata": {
        "id": "CpxlGuB0919q"
      },
      "execution_count": null,
      "outputs": []
    },
    {
      "cell_type": "code",
      "source": [],
      "metadata": {
        "id": "e77D9yCk-chm"
      },
      "execution_count": null,
      "outputs": []
    },
    {
      "cell_type": "code",
      "source": [
        "labels = kmeans.predict(X)\n",
        "reduced_means = X.copy()\n",
        "reduced_means['Cluster'] = labels\n",
        "reduced_means = pd.DataFrame(X)\n",
        "reduced_means['CLASS'] = reduced_data.CLASS\n",
        "reduced_means.columns = reduced_data.columns\n",
        "reduced_means"
      ],
      "metadata": {
        "id": "M9_9-u1M-cwt"
      },
      "execution_count": null,
      "outputs": []
    },
    {
      "cell_type": "code",
      "source": [],
      "metadata": {
        "id": "g568XUYi-j6J"
      },
      "execution_count": null,
      "outputs": []
    },
    {
      "cell_type": "code",
      "source": [
        "#visualizing gthe result\n",
        "plt.scatter(scatterKnn[label_db == 0, 0], scatterKnn[label_db == 0, 1], s = 50, c = 'green', label = 'Cluster 1')\n",
        "plt.scatter(scatterKnn[label_db == 1, 0], scatterKnn[label_db == 1, 1], s = 50, c = 'blue', label = 'Cluster 2')\n",
        "plt.scatter(scatterKnn[label_db == 2, 0], scatterKnn[label_db == 2, 1], s = 50, c = 'red', label = 'Cluster 3')\n",
        "plt.scatter(kmeans.cluster_centers_[:, 0], kmeans.cluster_centers_[:, 1], s = 100, c = 'yellow', label = 'Centroids')\n",
        "plt.title('Clusters of Patients')\n",
        "plt.xlabel('PC1')\n",
        "plt.ylabel('PC2')\n",
        "plt.legend()\n",
        "plt.show()"
      ],
      "metadata": {
        "id": "IcOMHE0X-j_O"
      },
      "execution_count": null,
      "outputs": []
    },
    {
      "cell_type": "code",
      "source": [],
      "metadata": {
        "id": "Da3etuoQ-xgE"
      },
      "execution_count": null,
      "outputs": []
    },
    {
      "cell_type": "code",
      "source": [
        "from sklearn.preprocessing import StandardScaler\n",
        "data_with_scale = reduced_means.copy()\n",
        "data_with_scale"
      ],
      "metadata": {
        "id": "u0xBwJFB-xop"
      },
      "execution_count": null,
      "outputs": []
    },
    {
      "cell_type": "code",
      "source": [],
      "metadata": {
        "id": "izuMySGc_Q2E"
      },
      "execution_count": null,
      "outputs": []
    },
    {
      "cell_type": "code",
      "source": [
        "data_with_scale = scaler.fit_transform(data_db)\n",
        " \n",
        " \n",
        "unscaled_data = reduced_data\n",
        "unscaled_acc = acc_score(unscaled_data, label_db)\n",
        "unscaled_acc"
      ],
      "metadata": {
        "id": "zNocTRqW_Q5j"
      },
      "execution_count": null,
      "outputs": []
    },
    {
      "cell_type": "code",
      "source": [],
      "metadata": {
        "id": "kqhthljK_hzq"
      },
      "execution_count": null,
      "outputs": []
    },
    {
      "cell_type": "code",
      "source": [
        "scaled_data = pd.DataFrame(X)\n",
        "scaled_data.columns = reduced_data.columns\n",
        "scaled_data"
      ],
      "metadata": {
        "id": "uzSKAqxs_iE2"
      },
      "execution_count": null,
      "outputs": []
    },
    {
      "cell_type": "code",
      "source": [],
      "metadata": {
        "id": "Uz1bYcMM_jlW"
      },
      "execution_count": null,
      "outputs": []
    },
    {
      "cell_type": "code",
      "source": [
        "scaled_data['CLASS'] = reduced_data.CLASS\n",
        "scaled_data.columns = reduced_means.columns\n",
        "scaled_data"
      ],
      "metadata": {
        "id": "PAMR9B7p_kT5"
      },
      "execution_count": null,
      "outputs": []
    },
    {
      "cell_type": "code",
      "source": [
        "scaled_acc = acc_score(scaled_data, label_db)\n",
        "scaled_acc"
      ],
      "metadata": {
        "id": "zZAfC02L_rQZ"
      },
      "execution_count": null,
      "outputs": []
    },
    {
      "cell_type": "code",
      "source": [
        "X_train, X_test, Y_train, Y_test = split(scaled_data, label_db)\n",
        "X_train"
      ],
      "metadata": {
        "id": "ppqPidXx_rT5"
      },
      "execution_count": null,
      "outputs": []
    },
    {
      "cell_type": "code",
      "source": [
        "testmodel = LogisticRegression(max_iter = 1000)\n",
        "testmodel.fit(X_train, Y_train)\n",
        "y_pred = testmodel.predict(X_test)"
      ],
      "metadata": {
        "id": "sapv0j75_0Qr"
      },
      "execution_count": null,
      "outputs": []
    },
    {
      "cell_type": "code",
      "source": [
        "from sklearn.metrics import confusion_matrix\n",
        "import matplotlib.pyplot as plt\n",
        "import seaborn as sns"
      ],
      "metadata": {
        "id": "mdZvp71f_0Ub"
      },
      "execution_count": null,
      "outputs": []
    },
    {
      "cell_type": "code",
      "source": [
        "cm = confusion_matrix(Y_test, y_pred, labels = ['Y', 'N', 'P'])\n"
      ],
      "metadata": {
        "id": "tKE_3EkZ_-G-"
      },
      "execution_count": null,
      "outputs": []
    },
    {
      "cell_type": "code",
      "source": [
        "# Create a heatmap to visualize the confusion matrix\n",
        "sns.heatmap(cm, annot=True, cmap='Reds', fmt='g')\n",
        "plt.xlabel('Predicted labels')\n",
        "plt.ylabel('True labels')\n",
        "plt.show()"
      ],
      "metadata": {
        "id": "dBwUpAIt_-Ky"
      },
      "execution_count": null,
      "outputs": []
    },
    {
      "cell_type": "code",
      "source": [
        "print(cm)\n"
      ],
      "metadata": {
        "id": "aBa45-O3AM4j"
      },
      "execution_count": null,
      "outputs": []
    },
    {
      "cell_type": "code",
      "source": [],
      "metadata": {
        "id": "qBn0KdiUApgE"
      },
      "execution_count": null,
      "outputs": []
    },
    {
      "cell_type": "code",
      "source": [
        "logmodel = LogisticRegression(max_iter = 1000)\n",
        "X_train, X_test, Y_train, Y_test = split(scaled_data, label_db)\n",
        "chromo_df_bc,score_bc=generations(scaled_data,label_db,size=80,n_feat= X_train.shape[1], n_parents=64,mutation_rate=0.20,n_gen=5, X_train = X_train,X_t"
      ],
      "metadata": {
        "id": "8iBOtQdTAp6o"
      },
      "execution_count": null,
      "outputs": []
    },
    {
      "cell_type": "code",
      "source": [],
      "metadata": {
        "id": "rrFHm6vvAw9f"
      },
      "execution_count": null,
      "outputs": []
    },
    {
      "cell_type": "code",
      "source": [
        "X_train.columns"
      ],
      "metadata": {
        "id": "PV0hCkWrAxrZ"
      },
      "execution_count": null,
      "outputs": []
    },
    {
      "cell_type": "code",
      "source": [],
      "metadata": {
        "id": "Yo9ERL1PAzFV"
      },
      "execution_count": null,
      "outputs": []
    },
    {
      "cell_type": "code",
      "source": [],
      "metadata": {
        "id": "9tat_5PqAzji"
      },
      "execution_count": null,
      "outputs": []
    },
    {
      "cell_type": "code",
      "source": [
        "def demo():\n",
        "  arr = []\n",
        "  age = float(input('Enter your age here: (Max: 80, Min 20) '))\n",
        "  HbA1c = float(input('Input your average blood sugar level for the past 2 - 3 months: (Max: 16, Min 0.9) '))\n",
        "  Chol = float(input('Input your level of cholesterol here: (Max: 10.3, Min: 0) '))\n",
        "  TG = float(input(\"Enter your triglycerides here: (Min : 0.3, Max 13.8) \"))\n",
        "  VLDL = float(input('Enter the value of low density lipoprotein : (Max:35, Min 0.1) '))\n",
        "  BMI = float(input(\"Enter the value of the body mass index: (Max : 47.75, Min : 19) \"))\n",
        "  arr.append([age, HbA1c, Chol, TG, VLDL, BMI])\n",
        "  model = LogisticRegression(max_iter = 1000)\n",
        "  model.fit(X_train, Y_train)\n",
        "  result = model.predict(arr)\n",
        "  print(\" \")\n",
        "  print(\"Below are the details of your diabetes test result \")\n",
        "  print(\"\")\n",
        "  print(\"\")\n",
        "  print(\"Age : \", age)\n",
        "  print(\"HbA1c : \", HbA1c)\n",
        "  print(\"Cholesterol : \", Chol)\n",
        "  print(\"TG : \", TG)\n",
        "  print(\"VLDL : \", VLDL)\n",
        "  print(\"BMI : \", BMI)\n",
        "  print(\"\")\n",
        "  print(\"\")\n",
        "  print(\"Diabetes Status : \", [\"Positive\" if result == 'P' else \"Negative\" if result == 'N' else \"Pre-diabetes\" for result in result])"
      ],
      "metadata": {
        "id": "19JZ_yuLzAQg"
      },
      "execution_count": 29,
      "outputs": []
    },
    {
      "cell_type": "code",
      "source": [
        "demo()"
      ],
      "metadata": {
        "colab": {
          "base_uri": "https://localhost:8080/"
        },
        "id": "nbbWpwZxznFh",
        "outputId": "4a42de8b-329a-4b38-9286-1b381cb10288"
      },
      "execution_count": null,
      "outputs": [
        {
          "name": "stdout",
          "output_type": "stream",
          "text": [
            "Input your average blood sugar level for the past 2 - 3 months: (Max: 16, Min 0.9) 8\n"
          ]
        }
      ]
    }
  ]
}